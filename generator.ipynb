{
 "cells": [
  {
   "cell_type": "code",
   "execution_count": 20,
   "id": "920d3ab8",
   "metadata": {},
   "outputs": [],
   "source": [
    "import osmnx as ox\n",
    "import matplotlib.pyplot as plt\n",
    "from PIL import Image, ImageEnhance\n",
    "import numpy as np\n",
    "\n",
    "# --- Load and stylize Lenny (black/white, keep transparency) ---\n",
    "lenny = Image.open(\"lenny.png\").convert(\"RGBA\")\n",
    "r, g, b, a = lenny.split()\n",
    "gray = Image.merge(\"RGB\", (r, g, b)).convert(\"L\")\n",
    "gray = ImageEnhance.Contrast(gray).enhance(3.0)   # strong contrast\n",
    "bw = gray.point(lambda x: 0 if x < 128 else 255, \"L\")\n",
    "lenny_bw = Image.merge(\"RGBA\", (bw, bw, bw, a))\n",
    "lenny_arr = np.array(lenny_bw)\n",
    "\n",
    "def save_crop(x0, x1, y0, y1, path, add_lenny=False):\n",
    "    fig = plt.figure(figsize=(33.1, 46.8), dpi=300)  # A0 portrait\n",
    "    ax = fig.add_axes([0, 0, 1, 1])                  # full page\n",
    "    ox.plot_graph(G, ax=ax,\n",
    "                  node_size=0,\n",
    "                  edge_color=\"black\",\n",
    "                  edge_linewidth=0.35,\n",
    "                  bgcolor=\"white\",\n",
    "                  show=False, close=False)\n",
    "    ax.set_xlim(x0, x1)\n",
    "    ax.set_ylim(y0, y1)\n",
    "    ax.axis(\"off\")\n",
    "    fig.patch.set_facecolor(\"white\")\n",
    "\n",
    "    if add_lenny:\n",
    "        # Place in bottom-left corner, touching edges\n",
    "        size = 0.15  # fraction of page width; adjust as needed\n",
    "        ax_inset = fig.add_axes([0, 0, size, size * (lenny_arr.shape[0] / lenny_arr.shape[1])])\n",
    "        ax_inset.imshow(lenny_arr)\n",
    "        ax_inset.axis(\"off\")\n",
    "\n",
    "    plt.savefig(path, format=\"pdf\", dpi=300, pad_inches=0)\n",
    "    plt.close(fig)\n",
    "\n",
    "# Example usage:\n",
    "save_crop(Pan_x0, Pan_x0 + halfW, y0, y1, \"map_A0_left_portrait.pdf\", add_lenny=True)\n",
    "save_crop(Pan_x0 + halfW, Pan_x1, y0, y1, \"map_A0_right_portrait.pdf\")"
   ]
  },
  {
   "cell_type": "code",
   "execution_count": null,
   "id": "47ec9367",
   "metadata": {},
   "outputs": [],
   "source": []
  }
 ],
 "metadata": {
  "kernelspec": {
   "display_name": "Groningen-map",
   "language": "python",
   "name": "python3"
  },
  "language_info": {
   "codemirror_mode": {
    "name": "ipython",
    "version": 3
   },
   "file_extension": ".py",
   "mimetype": "text/x-python",
   "name": "python",
   "nbconvert_exporter": "python",
   "pygments_lexer": "ipython3",
   "version": "3.11.13"
  }
 },
 "nbformat": 4,
 "nbformat_minor": 5
}
